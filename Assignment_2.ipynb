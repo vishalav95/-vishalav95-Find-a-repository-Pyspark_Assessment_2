{
 "cells": [
  {
   "cell_type": "code",
   "execution_count": 1,
   "id": "690ce9a4-9fca-4016-8fe6-10118f7f1366",
   "metadata": {},
   "outputs": [],
   "source": [
    "import findspark\n",
    "findspark.init()\n",
    "import pyspark"
   ]
  },
  {
   "cell_type": "code",
   "execution_count": 2,
   "id": "1dfbcef5-e0c9-4954-b738-b7563071c8a9",
   "metadata": {},
   "outputs": [],
   "source": [
    "from pyspark.sql import SparkSession\n",
    "from pyspark.sql.functions import col,to_date, date_format\n",
    "from pyspark.sql import Row\n",
    "from pyspark.sql import SparkSession"
   ]
  },
  {
   "cell_type": "code",
   "execution_count": 3,
   "id": "cdaa50fc-a770-4483-800e-5a547fd7b38f",
   "metadata": {},
   "outputs": [
    {
     "name": "stderr",
     "output_type": "stream",
     "text": [
      "24/02/08 01:28:43 WARN Utils: Your hostname, Smritis-MacBook-Pro.local resolves to a loopback address: 127.0.0.1; using 192.168.29.87 instead (on interface en0)\n",
      "24/02/08 01:28:43 WARN Utils: Set SPARK_LOCAL_IP if you need to bind to another address\n",
      "24/02/08 01:28:44 WARN NativeCodeLoader: Unable to load native-hadoop library for your platform... using builtin-java classes where applicable\n",
      "Setting default log level to \"WARN\".\n",
      "To adjust logging level use sc.setLogLevel(newLevel). For SparkR, use setLogLevel(newLevel).\n",
      "24/02/08 01:28:45 WARN Utils: Service 'SparkUI' could not bind on port 4040. Attempting port 4041.\n"
     ]
    }
   ],
   "source": [
    "spark = SparkSession \\\n",
    "    .builder \\\n",
    "    .appName(\"Assignment_2\") \\\n",
    "    .config(\"spark.jars\", \"/Users/apple/Downloads/postgresql-42.7.0.jar\")\\\n",
    "    .getOrCreate()"
   ]
  },
  {
   "cell_type": "code",
   "execution_count": 4,
   "id": "e366c169-c838-41b3-aaab-b62dd93401c9",
   "metadata": {},
   "outputs": [
    {
     "name": "stderr",
     "output_type": "stream",
     "text": [
      "                                                                                \r"
     ]
    },
    {
     "name": "stdout",
     "output_type": "stream",
     "text": [
      "+--------------------+-----------------+----+------+----+-----------------+-------------+--------------------+\n",
      "|             gmap_id|             name|pics|rating|resp|             text|         time|             user_id|\n",
      "+--------------------+-----------------+----+------+----+-----------------+-------------+--------------------+\n",
      "|0x7c00159b5b1b1d2...|  manuel grimaldo|NULL|     5|NULL|Great new upgrade|1591839903487|11396541707957662...|\n",
      "|0x7c00159b5b1b1d2...|     Enrique Lara|NULL|     5|NULL|             NULL|1568059018979|11665581913729333...|\n",
      "|0x7c00159b5b1b1d2...|Gregory Donaldson|NULL|     5|NULL|             NULL|1594885588335|10083411999455007...|\n",
      "|0x7c00159b5b1b1d2...|      Brian Baker|NULL|     5|NULL|             NULL|1575951131613|10320721414448209...|\n",
      "|0x7c00159b5b1b1d2...|            Kam J|NULL|     3|NULL|             NULL|1573076723916|10852617116317257...|\n",
      "+--------------------+-----------------+----+------+----+-----------------+-------------+--------------------+\n",
      "only showing top 5 rows\n",
      "\n"
     ]
    },
    {
     "name": "stderr",
     "output_type": "stream",
     "text": [
      "                                                                                \r"
     ]
    },
    {
     "data": {
      "text/plain": [
       "1504347"
      ]
     },
     "execution_count": 4,
     "metadata": {},
     "output_type": "execute_result"
    }
   ],
   "source": [
    "# Reading the JSON file from local storage and converting it to a dataframe.\n",
    "# createOrReplaceTempView() function creates a table name that can be used in spark-sql queries.\n",
    "\n",
    "importDF= spark.read.json('/Users/apple/Downloads/review-Hawaii_10.json')\n",
    "importDF.createOrReplaceTempView(\"RatingsAndReviews\")\n",
    "importDF.show(5)\n",
    "importDF.count()"
   ]
  },
  {
   "cell_type": "code",
   "execution_count": 8,
   "id": "d826f10a-f2d8-4c35-ad91-de1ac12d1620",
   "metadata": {},
   "outputs": [
    {
     "name": "stdout",
     "output_type": "stream",
     "text": [
      "+--------------------+-----------------+------+-----------------+--------------------+----------+\n",
      "|             gmap_id|             name|rating|             text|             user_id|      date|\n",
      "+--------------------+-----------------+------+-----------------+--------------------+----------+\n",
      "|0x7c00159b5b1b1d2...|  manuel grimaldo|     5|Great new upgrade|11396541707957662...|06-11-2020|\n",
      "|0x7c00159b5b1b1d2...|     Enrique Lara|     5|             NULL|11665581913729333...|09-10-2019|\n",
      "|0x7c00159b5b1b1d2...|Gregory Donaldson|     5|             NULL|10083411999455007...|07-16-2020|\n",
      "|0x7c00159b5b1b1d2...|      Brian Baker|     5|             NULL|10320721414448209...|12-10-2019|\n",
      "|0x7c00159b5b1b1d2...|            Kam J|     3|             NULL|10852617116317257...|11-07-2019|\n",
      "+--------------------+-----------------+------+-----------------+--------------------+----------+\n",
      "only showing top 5 rows\n",
      "\n"
     ]
    },
    {
     "data": {
      "text/plain": [
       "1504347"
      ]
     },
     "execution_count": 8,
     "metadata": {},
     "output_type": "execute_result"
    }
   ],
   "source": [
    "#A spark-sql query to convert the epoch time to date string with mm-dd-yyyy format\n",
    "\n",
    "dateFormattedDF = spark.sql(\"SELECT *, date_format(to_date(from_unixtime(floor(time/1000))), 'MM-dd-yyyy') as date FROM RatingsAndReviews\").drop(\"time\").drop(\"pics\").drop(\"resp\")\n",
    "dateFormattedDF.show(5)\n",
    "dateFormattedDF.count()"
   ]
  },
  {
   "cell_type": "code",
   "execution_count": 9,
   "id": "83c67814-51d1-4f10-8020-8485d0cf00e3",
   "metadata": {},
   "outputs": [],
   "source": [
    "# Create a table in postgre to load the dataframe. Use the following code to write the data to postgre server\n",
    "\n",
    "url = \"jdbc:postgresql://localhost:5432/postgres\"\n",
    "properties = { \n",
    "    \"driver\" : \"org.postgresql.Driver\",\n",
    "    \"user\" : \"vishal\",\n",
    "    \"password\" : \"***********\",\n",
    "    \"driver\" : \"org.postgresql.Driver\",\n",
    "    \"batchsize\" : \"10000\"\n",
    "}"
   ]
  },
  {
   "cell_type": "code",
   "execution_count": 10,
   "id": "38cb48f7-01c6-45ab-b252-5a227d334e59",
   "metadata": {},
   "outputs": [
    {
     "name": "stderr",
     "output_type": "stream",
     "text": [
      "                                                                                \r"
     ]
    }
   ],
   "source": [
    "dateFormattedDF.write.jdbc(url=url, table = \"Reviews\", mode=\"overwrite\", properties=properties)"
   ]
  },
  {
   "cell_type": "code",
   "execution_count": null,
   "id": "69c49bb5-1c12-4910-8b94-6653e463b98d",
   "metadata": {},
   "outputs": [],
   "source": []
  }
 ],
 "metadata": {
  "kernelspec": {
   "display_name": "Python 3 (ipykernel)",
   "language": "python",
   "name": "python3"
  },
  "language_info": {
   "codemirror_mode": {
    "name": "ipython",
    "version": 3
   },
   "file_extension": ".py",
   "mimetype": "text/x-python",
   "name": "python",
   "nbconvert_exporter": "python",
   "pygments_lexer": "ipython3",
   "version": "3.10.12"
  }
 },
 "nbformat": 4,
 "nbformat_minor": 5
}
